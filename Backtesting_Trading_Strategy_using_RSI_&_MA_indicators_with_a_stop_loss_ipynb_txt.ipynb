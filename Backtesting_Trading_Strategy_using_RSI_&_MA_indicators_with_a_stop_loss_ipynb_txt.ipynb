{
  "cells": [
    {
      "cell_type": "markdown",
      "metadata": {
        "id": "view-in-github",
        "colab_type": "text"
      },
      "source": [
        "<a href=\"https://colab.research.google.com/github/ali3brt/20-Newsgroups-Dataset/blob/main/Backtesting_Trading_Strategy_using_RSI_%26_MA_indicators_with_a_stop_loss_ipynb_txt.ipynb\" target=\"_parent\"><img src=\"https://colab.research.google.com/assets/colab-badge.svg\" alt=\"Open In Colab\"/></a>"
      ]
    },
    {
      "cell_type": "code",
      "execution_count": null,
      "metadata": {
        "id": "TLCeODy0pUtg"
      },
      "outputs": [],
      "source": [
        "import pandas as pd\n",
        "\n",
        "def SMA(array, n):\n",
        "    \"\"\"Simple moving average\"\"\"\n",
        "    return pd.Series(array).rolling(n).mean()\n",
        "\n",
        "def RSI(array, n):\n",
        "    \"\"\"Relative strength index\"\"\"\n",
        "    # Approximate; good enough\n",
        "    gain = pd.Series(array).diff()\n",
        "    loss = gain.copy()\n",
        "    gain[gain < 0] = 0\n",
        "    loss[loss > 0] = 0\n",
        "    rs = gain.ewm(n).mean() / loss.abs().ewm(n).mean()\n",
        "    return 100 - 100 / (1 + rs)"
      ]
    },
    {
      "cell_type": "markdown",
      "metadata": {
        "id": "43348UhtpUth"
      },
      "source": [
        "### Buy the position when:\n",
        "\n",
        " * weekly RSI(30)  ≥  daily RSI(30)  >  70\n",
        " * Close  >  MA(10)  >  MA(20)  >  MA(50)  >  MA(100)\n",
        "\n",
        "### Close the position when:\n",
        " * Daily close is more than 2% below MA(10)\n",
        " * 8% fixed stop loss is hit"
      ]
    },
    {
      "cell_type": "code",
      "execution_count": null,
      "metadata": {
        "id": "2_aHRYchpUtj",
        "outputId": "48bba97b-2246-4fc6-ed82-bce6eeb141be",
        "colab": {
          "base_uri": "https://localhost:8080/",
          "height": 627
        }
      },
      "outputs": [
        {
          "output_type": "error",
          "ename": "ModuleNotFoundError",
          "evalue": "No module named 'backtesting'",
          "traceback": [
            "\u001b[0;31m---------------------------------------------------------------------------\u001b[0m",
            "\u001b[0;31mModuleNotFoundError\u001b[0m                       Traceback (most recent call last)",
            "\u001b[0;32m<ipython-input-2-ee6a91097723>\u001b[0m in \u001b[0;36m<cell line: 1>\u001b[0;34m()\u001b[0m\n\u001b[0;32m----> 1\u001b[0;31m \u001b[0;32mfrom\u001b[0m \u001b[0mbacktesting\u001b[0m \u001b[0;32mimport\u001b[0m \u001b[0mStrategy\u001b[0m\u001b[0;34m,\u001b[0m \u001b[0mBacktest\u001b[0m\u001b[0;34m\u001b[0m\u001b[0;34m\u001b[0m\u001b[0m\n\u001b[0m\u001b[1;32m      2\u001b[0m \u001b[0;32mfrom\u001b[0m \u001b[0mbacktesting\u001b[0m\u001b[0;34m.\u001b[0m\u001b[0mlib\u001b[0m \u001b[0;32mimport\u001b[0m \u001b[0mresample_apply\u001b[0m\u001b[0;34m\u001b[0m\u001b[0;34m\u001b[0m\u001b[0m\n\u001b[1;32m      3\u001b[0m \u001b[0;34m\u001b[0m\u001b[0m\n\u001b[1;32m      4\u001b[0m \u001b[0;34m\u001b[0m\u001b[0m\n\u001b[1;32m      5\u001b[0m \u001b[0;32mclass\u001b[0m \u001b[0mSystem\u001b[0m\u001b[0;34m(\u001b[0m\u001b[0mStrategy\u001b[0m\u001b[0;34m)\u001b[0m\u001b[0;34m:\u001b[0m\u001b[0;34m\u001b[0m\u001b[0;34m\u001b[0m\u001b[0m\n",
            "\u001b[0;31mModuleNotFoundError\u001b[0m: No module named 'backtesting'",
            "",
            "\u001b[0;31m---------------------------------------------------------------------------\u001b[0;32m\nNOTE: If your import is failing due to a missing package, you can\nmanually install dependencies using either !pip or !apt.\n\nTo view examples of installing some common dependencies, click the\n\"Open Examples\" button below.\n\u001b[0;31m---------------------------------------------------------------------------\u001b[0m\n"
          ],
          "errorDetails": {
            "actions": [
              {
                "action": "open_url",
                "actionText": "Open Examples",
                "url": "/notebooks/snippets/importing_libraries.ipynb"
              }
            ]
          }
        }
      ],
      "source": [
        "from backtesting import Strategy, Backtest\n",
        "from backtesting.lib import resample_apply\n",
        "\n",
        "\n",
        "class System(Strategy):\n",
        "    d_rsi = 30  # Daily RSI lookback periods\n",
        "    w_rsi = 30  # Weekly\n",
        "    level = 70\n",
        "\n",
        "    def init(self):\n",
        "        # Compute moving averages the strategy demands\n",
        "        self.ma10 = self.I(SMA, self.data.Close, 10)\n",
        "        self.ma20 = self.I(SMA, self.data.Close, 20)\n",
        "        self.ma50 = self.I(SMA, self.data.Close, 50)\n",
        "        self.ma100 = self.I(SMA, self.data.Close, 100)\n",
        "\n",
        "        # Compute daily RSI(30)\n",
        "        self.daily_rsi = self.I(RSI, self.data.Close, self.d_rsi)\n",
        "\n",
        "        # To construct weekly RSI, we can use `resample_apply()`\n",
        "        # helper function from the library\n",
        "        self.weekly_rsi = resample_apply(\n",
        "            'W-FRI', RSI, self.data.Close, self.w_rsi)\n",
        "\n",
        "\n",
        "    def next(self):\n",
        "        price = self.data.Close[-1]\n",
        "\n",
        "        # If we don't already have a position, and\n",
        "        # if all conditions are satisfied, enter long.\n",
        "        if (not self.position and\n",
        "            self.daily_rsi[-1] > self.level and\n",
        "            self.weekly_rsi[-1] > self.level and\n",
        "            self.weekly_rsi[-1] > self.daily_rsi[-1] and\n",
        "            self.ma10[-1] > self.ma20[-1] > self.ma50[-1] > self.ma100[-1] and\n",
        "            price > self.ma10[-1]):\n",
        "\n",
        "            # Buy at market price on next open, but do\n",
        "            # set 8% fixed stop loss.\n",
        "            self.buy(sl=.92 * price)\n",
        "\n",
        "        # If the price closes 2% or more below 10-day MA\n",
        "        # close the position, if any.\n",
        "        elif price < .98 * self.ma10[-1]:\n",
        "            self.position.close()"
      ]
    },
    {
      "cell_type": "code",
      "execution_count": null,
      "metadata": {
        "id": "qcIp1peQpUtk"
      },
      "outputs": [],
      "source": [
        "import yfinance as yf\n",
        "GOOGLE=yf.download(\"GOOG\",start=\"2018-01-01\", end=\"2020-06-30\",auto_adjust = True)\n",
        "\n",
        "from backtesting import Backtest\n",
        "\n",
        "backtest = Backtest(GOOGLE, System, commission=.002)\n",
        "stats= backtest.run()"
      ]
    },
    {
      "cell_type": "code",
      "execution_count": null,
      "metadata": {
        "id": "bNPMEUlVpUtk"
      },
      "outputs": [],
      "source": [
        "%%time\n",
        "\n",
        "backtest.optimize(d_rsi=range(10, 35, 5),\n",
        "                  w_rsi=range(10, 35, 5),\n",
        "                  level=range(30, 80, 10))"
      ]
    },
    {
      "cell_type": "code",
      "execution_count": null,
      "metadata": {
        "scrolled": false,
        "id": "wkuxY2mBpUtl"
      },
      "outputs": [],
      "source": [
        "backtest.plot()"
      ]
    },
    {
      "cell_type": "markdown",
      "metadata": {
        "id": "mZ45VMSZpUtl"
      },
      "source": [
        "### Result:\n",
        "##### While the strategy doesn't perform as well as simple buy & hold, it does so with significantly lower exposure (time in market).\n",
        "##### In conclusion, to test strategies on multiple time frames, you need to pass in OHLC data in the lowest time frame, then resample it to higher time frames, apply the indicators, then resample back to the lower time frame, filling in the in-betweens."
      ]
    },
    {
      "cell_type": "code",
      "execution_count": null,
      "metadata": {
        "id": "R2uYBI5JpUtl"
      },
      "outputs": [],
      "source": [
        "#These are the trades that would executed with this strategy.\n",
        "stats['_trades']"
      ]
    }
  ],
  "metadata": {
    "kernelspec": {
      "display_name": "Python 3",
      "name": "python3"
    },
    "language_info": {
      "codemirror_mode": {
        "name": "ipython",
        "version": 3
      },
      "file_extension": ".py",
      "mimetype": "text/x-python",
      "name": "python",
      "nbconvert_exporter": "python",
      "pygments_lexer": "ipython3",
      "version": "3.7.6"
    },
    "colab": {
      "provenance": [],
      "gpuType": "T4",
      "include_colab_link": true
    },
    "accelerator": "GPU"
  },
  "nbformat": 4,
  "nbformat_minor": 0
}